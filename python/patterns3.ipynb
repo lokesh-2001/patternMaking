{
 "cells": [
  {
   "cell_type": "markdown",
   "metadata": {},
   "source": [
    "pattern 13"
   ]
  },
  {
   "cell_type": "code",
   "execution_count": 6,
   "metadata": {},
   "outputs": [
    {
     "name": "stdout",
     "output_type": "stream",
     "text": [
      "        * \n",
      "      *   * \n",
      "    *       * \n",
      "  *           * \n",
      "* * * * * * * * * \n"
     ]
    }
   ],
   "source": [
    "n = 5\n",
    "for i in range(n):\n",
    "    outspace = n - i - 1\n",
    "    for _ in range(outspace):\n",
    "        print(\" \",end = \" \")\n",
    "    if i ==0:\n",
    "        print(\"*\",end=\" \")\n",
    "    elif i ==n - 1:\n",
    "        stars = 2 * n - 1\n",
    "        for _ in range(stars):\n",
    "            print(\"*\",end=\" \")\n",
    "    else : \n",
    "        inspace = 2 *(i-1) + 1\n",
    "        print(\"*\",end=\" \")\n",
    "        for _ in range(inspace):\n",
    "            print(\" \",end=\" \")\n",
    "        print(\"*\",end=\" \")\n",
    "    print()"
   ]
  },
  {
   "cell_type": "markdown",
   "metadata": {},
   "source": [
    "pattern 14"
   ]
  },
  {
   "cell_type": "code",
   "execution_count": 7,
   "metadata": {},
   "outputs": [
    {
     "name": "stdout",
     "output_type": "stream",
     "text": [
      "* * * * * * * * * \n",
      "  *           * \n",
      "    *       * \n",
      "      *   * \n",
      "        * \n"
     ]
    }
   ],
   "source": [
    "n = 5\n",
    "for i in range(n):\n",
    "    outspace = i\n",
    "    for _ in range(outspace):\n",
    "        print(\" \",end=\" \")\n",
    "    if i ==0:\n",
    "        for _ in range(2*n-1):\n",
    "            print(\"*\",end=\" \")\n",
    "    elif i < n - 1:\n",
    "        inspace = n- (2 *(i-1)) \n",
    "        print(\"*\",end=\" \")\n",
    "        for _ in range(inspace):\n",
    "            print(\" \",end=\" \")\n",
    "        print(\"*\",end=\" \")\n",
    "    else : \n",
    "        print(\"*\",end=\" \")\n",
    "    print()"
   ]
  },
  {
   "cell_type": "markdown",
   "metadata": {},
   "source": [
    "pattern 15"
   ]
  },
  {
   "cell_type": "code",
   "execution_count": 8,
   "metadata": {},
   "outputs": [
    {
     "name": "stdout",
     "output_type": "stream",
     "text": [
      "        * \n",
      "      *   * \n",
      "    *       * \n",
      "  *           * \n",
      "*               * \n",
      "  *           * \n",
      "    *       * \n",
      "      *   * \n",
      "        * \n"
     ]
    }
   ],
   "source": [
    "n = 5\n",
    "for i in range(2*n-1):\n",
    "    outspace = n-i-1 if i<n else i-n+1\n",
    "    for _ in range(outspace):\n",
    "        print(\" \",end = \" \")\n",
    "    if(i == 0 or i == 2*n-2):\n",
    "        print(\"*\",end=\" \")\n",
    "    else:\n",
    "        inspace = 2 * (i-1) +1 if i<n else  2*(((2*n)-2)-i-1) +1\n",
    "        print(\"*\",end = \" \")\n",
    "        for _ in range(inspace):\n",
    "            print(\" \",end=\" \")\n",
    "        print(\"*\",end = \" \")\n",
    "    print()"
   ]
  },
  {
   "cell_type": "markdown",
   "metadata": {},
   "source": [
    "pattern 16"
   ]
  },
  {
   "cell_type": "code",
   "execution_count": 12,
   "metadata": {},
   "outputs": [
    {
     "name": "stdout",
     "output_type": "stream",
     "text": [
      "    1 \n",
      "   1 1 \n",
      "  1 2 1 \n",
      " 1 3 3 1 \n",
      "1 4 6 4 1 \n"
     ]
    }
   ],
   "source": [
    "#  line,i = line! / (line-i ! * i! ) \n",
    "def binomial_Coefficient(n : int,k:int) -> int:\n",
    "    if(k > n-k):\n",
    "        k = n-k\n",
    "    res = 1\n",
    "    for i in range(0,k):\n",
    "        res *= (n-i)\n",
    "        res //= (i+1)\n",
    "    \n",
    "    return res\n",
    "\n",
    "n = 5\n",
    "result = \"\"\n",
    "for i in range(n):\n",
    "    outspace = n-i-1\n",
    "    for _ in range(outspace):\n",
    "        print(\" \",end =\"\")\n",
    "    for j in range(i+1):\n",
    "        print(binomial_Coefficient(i,j),end = \" \")\n",
    "    print()\n",
    "\n",
    "        \n"
   ]
  },
  {
   "cell_type": "markdown",
   "metadata": {},
   "source": [
    "pattern 17"
   ]
  },
  {
   "cell_type": "code",
   "execution_count": 18,
   "metadata": {},
   "outputs": [
    {
     "name": "stdout",
     "output_type": "stream",
     "text": [
      "   1\n",
      "  212\n",
      " 32123\n",
      "4321234\n",
      " 32123\n",
      "  212\n",
      "   1\n"
     ]
    }
   ],
   "source": [
    "# n = 5\n",
    "# row no   = 0 1 2 3 4 5 6 (n+2)\n",
    "# outspace = 3 2 1 0 1 2 3 ((n+1)//2 to 0 and reverse) \n",
    "# 1st digit= 1 2 3 4 3 2 1 (row_no+1 if n+1//2 <= row_no n+1//2-outspace+1)\n",
    "\n",
    "\n",
    "n = 5\n",
    "for i in range(n + 2):\n",
    "    outspace = (n+1)//2 - i if(n+1)//2>=i else i - (n+1)//2\n",
    "    for j in range(outspace):\n",
    "        print(\" \",end = \"\")\n",
    "    no = i+1 if (n+1)//2>=i else (n+1)//2-outspace +1 \n",
    "    for j in reversed(range(1,no+1)):\n",
    "        print(j,end=\"\")\n",
    "    for j in range(2,no+1):\n",
    "        print(j,end=\"\")\n",
    "    print()\n"
   ]
  },
  {
   "cell_type": "markdown",
   "metadata": {},
   "source": [
    "Pattern 18"
   ]
  },
  {
   "cell_type": "code",
   "execution_count": 3,
   "metadata": {},
   "outputs": [
    {
     "name": "stdout",
     "output_type": "stream",
     "text": [
      "**********\n",
      "****  ****\n",
      "***    ***\n",
      "**      **\n",
      "*        *\n",
      "*        *\n",
      "**      **\n",
      "***    ***\n",
      "****  ****\n",
      "**********\n"
     ]
    }
   ],
   "source": [
    "n = 5\n",
    "for row in range(2*n):\n",
    "    if(row==0 or row == 2*n-1):\n",
    "        print(\"*\"*(2*n),end=\"\")\n",
    "    else:\n",
    "        inSpace= row*2 if(row<=n-1) else 2*((2*n)-row-1)\n",
    "        print(\"*\"*((2*n -inSpace)//2),end=\"\")\n",
    "        print(\" \"*inSpace,end=\"\")\n",
    "        print(\"*\"*((2*n -inSpace)//2),end=\"\")\n",
    "    print()"
   ]
  },
  {
   "cell_type": "markdown",
   "metadata": {},
   "source": [
    "Pattern 19"
   ]
  },
  {
   "cell_type": "code",
   "execution_count": 4,
   "metadata": {},
   "outputs": [
    {
     "name": "stdout",
     "output_type": "stream",
     "text": [
      "*        *\n",
      "**      **\n",
      "***    ***\n",
      "****  ****\n",
      "**********\n",
      "****  ****\n",
      "***    ***\n",
      "**      **\n",
      "*        *\n"
     ]
    }
   ],
   "source": [
    "n = 5\n",
    "for row in range((2*n)-1):\n",
    "    in_space = abs(((2*n)-1)-1-2*row) if ((2*n)-1)>=row else 2*(row-n+1)\n",
    "    stars = (2*n - in_space)//2\n",
    "    print(\"*\"*stars,end=\"\")\n",
    "    print(\" \"*in_space,end=\"\")\n",
    "    print(\"*\"*stars) "
   ]
  },
  {
   "cell_type": "markdown",
   "metadata": {},
   "source": [
    "Pattern 20"
   ]
  },
  {
   "cell_type": "code",
   "execution_count": 13,
   "metadata": {},
   "outputs": [
    {
     "name": "stdout",
     "output_type": "stream",
     "text": [
      "*****\n",
      "*   *\n",
      "*   *\n",
      "*   *\n",
      "*   *\n",
      "*   *\n",
      "*   *\n",
      "*****\n"
     ]
    }
   ],
   "source": [
    "n = 8\n",
    "for i in range(n):\n",
    "    if i==0 or i==n-1:\n",
    "        if(n&1 == 0):\n",
    "            print(\"*\"*((n)//2+1),end=\"\")\n",
    "        else:\n",
    "            print(\"*\"*((n)//2+2),end=\"\")\n",
    "    else:\n",
    "        star  = (n-1)//2\n",
    "        print(\"*\",end=\"\")\n",
    "        print(\" \"*star,end=\"\")\n",
    "        print(\"*\",end=\"\")\n",
    "    print()    "
   ]
  }
 ],
 "metadata": {
  "interpreter": {
   "hash": "5d240ba0dc525c389faa33f5dcce5b4f32b6d6aa6d70d6d2dd929bd2b09ab69f"
  },
  "kernelspec": {
   "display_name": "Python 3.10.0 64-bit",
   "language": "python",
   "name": "python3"
  },
  "language_info": {
   "codemirror_mode": {
    "name": "ipython",
    "version": 3
   },
   "file_extension": ".py",
   "mimetype": "text/x-python",
   "name": "python",
   "nbconvert_exporter": "python",
   "pygments_lexer": "ipython3",
   "version": "3.10.0"
  },
  "orig_nbformat": 4
 },
 "nbformat": 4,
 "nbformat_minor": 2
}
