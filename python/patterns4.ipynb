{
 "cells": [
  {
   "cell_type": "markdown",
   "metadata": {},
   "source": [
    "pattern 21"
   ]
  },
  {
   "cell_type": "code",
   "execution_count": 1,
   "metadata": {},
   "outputs": [
    {
     "name": "stdout",
     "output_type": "stream",
     "text": [
      "\n",
      "1 \n",
      "2 3 \n",
      "4 5 6 \n",
      "7 8 9 10 \n",
      "11 12 13 14 15 \n"
     ]
    }
   ],
   "source": [
    "n = 5\n",
    "value = 1\n",
    "for i in range(n+1):\n",
    "    for _ in range(i):\n",
    "        print(value,end = \" \")\n",
    "        value+=1\n",
    "    print()\n"
   ]
  },
  {
   "cell_type": "markdown",
   "metadata": {},
   "source": [
    "pattern 22"
   ]
  },
  {
   "cell_type": "code",
   "execution_count": 2,
   "metadata": {},
   "outputs": [
    {
     "name": "stdout",
     "output_type": "stream",
     "text": [
      "1 \n",
      "0 1 \n",
      "1 0 1 \n",
      "0 1 0 1 \n",
      "1 0 1 0 1 \n"
     ]
    }
   ],
   "source": [
    "n = 5\n",
    "value = 0\n",
    "for i in range(n):\n",
    "    if(i & 1 == 0 ):\n",
    "        value = 0\n",
    "        print(\"1\",end=\" \")\n",
    "    else:\n",
    "        value = 1\n",
    "        print(\"0\",end=\" \")\n",
    "    for _ in range(i):\n",
    "        print(value , end = \" \")\n",
    "        value ^= 1\n",
    "    print()"
   ]
  },
  {
   "cell_type": "markdown",
   "metadata": {},
   "source": [
    "Pattern 23"
   ]
  },
  {
   "cell_type": "code",
   "execution_count": 4,
   "metadata": {},
   "outputs": [
    {
     "name": "stdout",
     "output_type": "stream",
     "text": [
      "    *      *\n",
      "  *   *  *   *\n",
      "*      *      *\n"
     ]
    }
   ],
   "source": [
    "n = 3\n",
    "for i in range(n):\n",
    "    outerspace = 2*((n-1)-i)\n",
    "    print(\" \"*outerspace,end=\"\") \n",
    "\n",
    "    print(\"*\",end=\"\")\n",
    "\n",
    "    innerspace = ((n)*i)\n",
    "    print(\" \"*innerspace,end=\"\")\n",
    "    if(i!=0):\n",
    "        print(\"*\",end=\"\")\n",
    "    innerSecondSpace = ((n)*(n-i-1) -i)\n",
    "    print(\" \"*innerSecondSpace,end=\"\")\n",
    "\n",
    "    if i!= n-1:\n",
    "        print(\"*\",end=\"\")\n",
    "    innerThirdSpace = ((n)*i)\n",
    "    print(\" \"*innerThirdSpace,end=\"\")\n",
    "    \n",
    "    if i!=0:\n",
    "        print(\"*\",end=\"\")\n",
    "\n",
    "    print()\n",
    "\n"
   ]
  },
  {
   "cell_type": "markdown",
   "metadata": {},
   "source": [
    "Pattern 24"
   ]
  },
  {
   "cell_type": "code",
   "execution_count": 11,
   "metadata": {},
   "outputs": [
    {
     "name": "stdout",
     "output_type": "stream",
     "text": [
      "*        *\n",
      "**      **\n",
      "* *    * *\n",
      "*  *  *  *\n",
      "*   **   *\n",
      "*   **   *\n",
      "*  *  *  *\n",
      "* *    * *\n",
      "**      **\n",
      "*        *\n"
     ]
    }
   ],
   "source": [
    "n = 5\n",
    "def print_increasing(row):\n",
    "    print(\"*\",end=\"\")\n",
    "    innerspace = 0 if row<=1 else row-1\n",
    "    print(\" \"*innerspace,end=\"\")\n",
    "\n",
    "    if(row!=0):\n",
    "        print(\"*\",end=\"\")\n",
    "    \n",
    "    secondInnerSpace = 2*((n-1)-row)\n",
    "    print(\" \"*secondInnerSpace,end=\"\")\n",
    "    \n",
    "    print(\"*\",end=\"\")\n",
    "    \n",
    "    thirdInnerSpace = 0 if row<=1 else row-1\n",
    "    print(\" \"*thirdInnerSpace,end=\"\")\n",
    "    \n",
    "    if row!=0:\n",
    "        print(\"*\",end=\"\")\n",
    "\n",
    "def print_decreasing(row):\n",
    "    print(\"*\",end=\"\")\n",
    "    innerspace = n-row-2 if n-row-1 >  0 else 0\n",
    "    print(\" \"*innerspace,end=\"\")\n",
    "\n",
    "    if(row!=n-1):\n",
    "        print(\"*\",end=\"\")\n",
    "    \n",
    "    secondInnerSpace = 2*row\n",
    "    print(\" \"*secondInnerSpace,end=\"\")\n",
    "    \n",
    "    print(\"*\",end=\"\")\n",
    "    \n",
    "    thirdInnerSpace = n-row-2 if n-row-1>0 else 0\n",
    "    print(\" \"*thirdInnerSpace,end=\"\")\n",
    "    \n",
    "    if row!=n-1:\n",
    "        print(\"*\",end=\"\")\n",
    "\n",
    "    print()\n",
    "\n",
    "for row in range(n):\n",
    "    print_increasing(row)\n",
    "    print()\n",
    "for row in range(n):\n",
    "    print_decreasing(row)\n",
    "\n"
   ]
  },
  {
   "cell_type": "markdown",
   "metadata": {},
   "source": [
    "Pattern 25"
   ]
  },
  {
   "cell_type": "code",
   "execution_count": 13,
   "metadata": {},
   "outputs": [
    {
     "name": "stdout",
     "output_type": "stream",
     "text": [
      "    *****\n",
      "   *   *\n",
      "  *   *\n",
      " *   *\n",
      "*****\n"
     ]
    }
   ],
   "source": [
    "n = 5\n",
    "for row in range(n):\n",
    "    outerSpace = (n-1)-row\n",
    "    print(\" \"*outerSpace,end=\"\")\n",
    "\n",
    "    print(\"*\",end=\"\")\n",
    "\n",
    "    if(row == 0 or row == n-1):\n",
    "        print(\"*\"*(n-2),end=\"\")\n",
    "    innerspace = n-2\n",
    "    if row!=0 and row !=n-1:\n",
    "        print(\" \"*innerspace,end=\"\")\n",
    "\n",
    "    print(\"*\",end=\"\")\n",
    "    print()\n"
   ]
  },
  {
   "cell_type": "markdown",
   "metadata": {},
   "source": [
    "Pattern 26"
   ]
  },
  {
   "cell_type": "code",
   "execution_count": 15,
   "metadata": {},
   "outputs": [
    {
     "name": "stdout",
     "output_type": "stream",
     "text": [
      "1 1 1 1 1 1 \n",
      "2 2 2 2 2 \n",
      "3 3 3 3 \n",
      "4 4 4 \n",
      "5 5 \n",
      "6 \n"
     ]
    }
   ],
   "source": [
    "n = 5\n",
    "for i in range(n+1):\n",
    "    print(f\"{i+1} \"*(n+1-i),end=\"\")\n",
    "    print()"
   ]
  },
  {
   "cell_type": "markdown",
   "metadata": {},
   "source": [
    "Pattern 27"
   ]
  },
  {
   "cell_type": "code",
   "execution_count": 21,
   "metadata": {},
   "outputs": [
    {
     "name": "stdout",
     "output_type": "stream",
     "text": [
      "      \n",
      "     * \n",
      "    * * \n",
      "   * * * \n",
      "  * * * * \n",
      " * * * * * \n",
      "* * * * * * \n",
      " * * * * * \n",
      "  * * * * \n",
      "   * * * \n",
      "    * * \n",
      "     * \n",
      "      \n"
     ]
    }
   ],
   "source": [
    "def printIncreasing(row):\n",
    "    print(\" \"*(n-row),end=\"\")\n",
    "    print(\"* \"*row,end=\"\")\n",
    "    print()\n",
    "def printDecreasing(row):\n",
    "    print(\" \"*(row+1),end=\"\")\n",
    "    print(\"* \"*(n-row-1),end=\"\")\n",
    "    print()\n",
    "\n",
    "for i in range(n+1):\n",
    "    printIncreasing(i)\n",
    "for i in range(n):\n",
    "    printDecreasing(i)"
   ]
  }
 ],
 "metadata": {
  "interpreter": {
   "hash": "5d240ba0dc525c389faa33f5dcce5b4f32b6d6aa6d70d6d2dd929bd2b09ab69f"
  },
  "kernelspec": {
   "display_name": "Python 3.10.0 64-bit",
   "language": "python",
   "name": "python3"
  },
  "language_info": {
   "codemirror_mode": {
    "name": "ipython",
    "version": 3
   },
   "file_extension": ".py",
   "mimetype": "text/x-python",
   "name": "python",
   "nbconvert_exporter": "python",
   "pygments_lexer": "ipython3",
   "version": "3.10.0"
  },
  "orig_nbformat": 4
 },
 "nbformat": 4,
 "nbformat_minor": 2
}
