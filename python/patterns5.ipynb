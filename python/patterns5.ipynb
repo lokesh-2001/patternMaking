{
 "cells": [
  {
   "cell_type": "markdown",
   "metadata": {},
   "source": [
    "Pattern 28"
   ]
  },
  {
   "cell_type": "code",
   "execution_count": 1,
   "metadata": {},
   "outputs": [
    {
     "name": "stdout",
     "output_type": "stream",
     "text": [
      "*        *\n",
      "**      **\n",
      "***    ***\n",
      "****  ****\n",
      "**********\n",
      "****  ****\n",
      "***    ***\n",
      "**      **\n",
      "*        *\n",
      "          \n"
     ]
    }
   ],
   "source": [
    "n = 5 \n",
    "def printIncreasing(row):\n",
    "    print(\"*\"*(row+1),end=\"\")\n",
    "\n",
    "    print(\" \"*((2*(n-1-row))),end=\"\")\n",
    "\n",
    "    print(\"*\"*(row+1),end=\"\")\n",
    "    print()\n",
    "def printDecreasing(row):\n",
    "    print(\"*\"*(n-row-1),end=\"\")\n",
    "\n",
    "    print(\" \"*((2*(1+row))),end=\"\")\n",
    "\n",
    "    print(\"*\"*(n-row-1),end=\"\")\n",
    "    print()\n",
    "\n",
    "for i in range(n):\n",
    "    printIncreasing(i)\n",
    "for i in range(n):\n",
    "    printDecreasing(i)\n"
   ]
  },
  {
   "cell_type": "markdown",
   "metadata": {},
   "source": [
    "Pattern 29"
   ]
  },
  {
   "cell_type": "code",
   "execution_count": 2,
   "metadata": {},
   "outputs": [
    {
     "name": "stdout",
     "output_type": "stream",
     "text": [
      "        \n",
      "      1 \n",
      "    2 1 2 \n",
      "  3 2 1 2 3 \n",
      "4 3 2 1 2 3 4 \n"
     ]
    }
   ],
   "source": [
    "n=5\n",
    "for i in range(n):\n",
    "    outerSpace = 2*(n-i-1)\n",
    "    print(\" \"*outerSpace,end=\"\")\n",
    "\n",
    "    for j in reversed(range(1,i+1)):\n",
    "        print(j,end=\" \")\n",
    "    for j in range(2,i+1):\n",
    "        print(j,end=\" \")\n",
    "    print()"
   ]
  },
  {
   "cell_type": "markdown",
   "metadata": {},
   "source": [
    "Pattern 30"
   ]
  },
  {
   "cell_type": "code",
   "execution_count": 16,
   "metadata": {},
   "outputs": [
    {
     "name": "stdout",
     "output_type": "stream",
     "text": [
      "E\n",
      "DE\n",
      "CDE\n",
      "BCDE\n",
      "ABCDE\n"
     ]
    }
   ],
   "source": [
    "n = 5\n",
    "for row in range(n):\n",
    "    rangeStart = n-row\n",
    "    rangeEnd = n+1\n",
    "    for i in range(rangeStart,rangeEnd):\n",
    "        print(chr(i+64),end=\"\")\n",
    "    print()"
   ]
  },
  {
   "cell_type": "markdown",
   "metadata": {},
   "source": [
    "Pattern 31"
   ]
  },
  {
   "cell_type": "code",
   "execution_count": 47,
   "metadata": {},
   "outputs": [
    {
     "name": "stdout",
     "output_type": "stream",
     "text": [
      "\n",
      "a \n",
      "B c \n",
      "D e F \n",
      "g H i J \n",
      "k L m N o \n"
     ]
    }
   ],
   "source": [
    "n = 5\n",
    "count=1\n",
    "c=0\n",
    "for row in range(n+1):\n",
    "    for i in range(row):\n",
    "        c+=1\n",
    "        if(c%2==0):\n",
    "            print(chr(count+64),end=\" \")\n",
    "        else:\n",
    "            print(chr(count+96),end=\" \")\n",
    "        count+=1\n",
    "            \n",
    "    print() \n",
    "        # else:"
   ]
  },
  {
   "cell_type": "markdown",
   "metadata": {},
   "source": [
    "Pattern 32"
   ]
  },
  {
   "cell_type": "code",
   "execution_count": 50,
   "metadata": {},
   "outputs": [
    {
     "name": "stdout",
     "output_type": "stream",
     "text": [
      "E D C B A \n",
      "D C B A \n",
      "C B A \n",
      "B A \n",
      "A \n"
     ]
    }
   ],
   "source": [
    "n = 5 \n",
    "for row in range(n):\n",
    "    for i in range(n-row,0,-1):\n",
    "        print(chr(i+64),end=\" \")\n",
    "    print()"
   ]
  },
  {
   "cell_type": "markdown",
   "metadata": {},
   "source": [
    "Pattern 33"
   ]
  },
  {
   "cell_type": "code",
   "execution_count": 51,
   "metadata": {},
   "outputs": [
    {
     "name": "stdout",
     "output_type": "stream",
     "text": [
      "        \n",
      "1      1\n",
      "12    21\n",
      "123  321\n",
      "12344321\n"
     ]
    }
   ],
   "source": [
    "n = 5\n",
    "for row in range(n):\n",
    "    for i in range(1,row+1):\n",
    "        print(i,end=\"\")\n",
    "    print(\" \"*(2 * (n-row-1)),end=\"\")\n",
    "    for i in reversed(range(1,row+1)):\n",
    "        print(i,end=\"\")\n",
    "    print()\n"
   ]
  }
 ],
 "metadata": {
  "interpreter": {
   "hash": "5d240ba0dc525c389faa33f5dcce5b4f32b6d6aa6d70d6d2dd929bd2b09ab69f"
  },
  "kernelspec": {
   "display_name": "Python 3.10.0 64-bit",
   "language": "python",
   "name": "python3"
  },
  "language_info": {
   "codemirror_mode": {
    "name": "ipython",
    "version": 3
   },
   "file_extension": ".py",
   "mimetype": "text/x-python",
   "name": "python",
   "nbconvert_exporter": "python",
   "pygments_lexer": "ipython3",
   "version": "3.10.0"
  },
  "orig_nbformat": 4
 },
 "nbformat": 4,
 "nbformat_minor": 2
}
